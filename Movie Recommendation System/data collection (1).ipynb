{
 "cells": [
  {
   "cell_type": "code",
   "execution_count": 1,
   "metadata": {},
   "outputs": [],
   "source": [
    "import bs4\n",
    "import requests\n",
    "import numpy as np\n",
    "import csv\n",
    "from time import sleep\n",
    "from random import randint"
   ]
  },
  {
   "cell_type": "code",
   "execution_count": 2,
   "metadata": {},
   "outputs": [],
   "source": [
    "link=[]\n",
    "movie,year,genre,rating,story,stars,votes,Gross,runtime=[],[],[],[],[],[],[],[],[]\n",
    "no=0\n",
    "print(\"WAIT FOR A TIME IT TAKES TIME\")\n",
    "for i in range(1,10001,50):\n",
    "    no+=1\n",
    "    if i==1:\n",
    "        url=\"https://www.imdb.com/search/title/?companies=co0144901\"\n",
    "        link.append(url) \n",
    "    else:\n",
    "        url=\"https://www.imdb.com/search/title/?companies=co0144901&start=\"+str(i)+\"&ref_=adv_nxt\"\n",
    "        link.append(url)\n",
    "print(len(link))\n",
    "print(str(no)+\"  PAGES TO BE SCRAPED FROM WEB TO PERFORM SCRAPING\")\n",
    "doom={}\n",
    "for i in link:\n",
    "    page=requests.get(i)\n",
    "    page=bs4.BeautifulSoup(page.text,\"html.parser\")\n",
    "    #sleep(randint(2,8))\n",
    "    for i in page.find_all(\"div\",class_=\"lister-item mode-advanced\"):\n",
    "        \n",
    "        # STORY PLOT\n",
    "        story.append(i.find_all(\"p\",class_=\"text-muted\")[-1].text)\n",
    "        \n",
    "        #MOVIE NAME\n",
    "        movie.append(i.find(\"h3\",class_=\"lister-item-header\").find(\"a\").text)\n",
    "        \n",
    "        \n",
    "        #YEAR RELEASE\n",
    "        try:\n",
    "            year.append(i.find(\"span\",class_=\"lister-item-year text-muted unbold\").text)\n",
    "        except:\n",
    "            year.append(np.nan)\n",
    "            \n",
    "        #GENRE\n",
    "        try:\n",
    "            genre.append(i.find(\"span\",class_=\"genre\").text)\n",
    "        except:\n",
    "            genre.append(np.nan)\n",
    "        \n",
    "        #STARS IN MOVIE\n",
    "        star=i.find(\"p\",class_=\"\").text\n",
    "        stars.append(star)\n",
    "        \n",
    "        #RATING FOR MOVIE\n",
    "        try:\n",
    "            rating.append(i.find(\"strong\").text)\n",
    "        except:\n",
    "            rating.append(np.nan)\n",
    "            \n",
    "        #VOTE AND GROSS\n",
    "        movieNumbers=i.find_all(\"span\", attrs={\"name\": \"nv\"})\n",
    "        if len(movieNumbers) == 2:\n",
    "            votes.append(movieNumbers[0].text)\n",
    "            Gross.append(movieNumbers[1].text)\n",
    "        elif len(movieNumbers) == 1:\n",
    "            votes.append(movieNumbers[0].text)\n",
    "            Gross.append(np.nan)\n",
    "        else:\n",
    "            votes.append(np.nan)\n",
    "            Gross.append(np.nan)\n",
    "            \n",
    "        #RUNTIME\n",
    "        try:\n",
    "            runtime.append(i.find(\"span\", class_=\"runtime\").text[:-4])\n",
    "        except:\n",
    "            runtime.append(np.nan)"
   ]
  },
  {
   "cell_type": "code",
   "execution_count": 3,
   "metadata": {},
   "outputs": [],
   "source": [
    "import numpy as np\n",
    "import pandas as pd\n",
    "doom={\"MOVIES\":movie,\"YEAR\":year,\"GENRE\":genre,\"RATING\":rating,\"ONE-LINE\":story,\"STARS\":stars,\"VOTES\":votes,\"RunTime\":runtime,\"Gross\":Gross}   #\n",
    "data=pd.DataFrame.from_dict(doom,orient=\"index\").transpose()"
   ]
  },
  {
   "cell_type": "code",
   "execution_count": 4,
   "metadata": {},
   "outputs": [],
   "source": [
    "data.shape"
   ]
  },
  {
   "cell_type": "code",
   "execution_count": 5,
   "metadata": {},
   "outputs": [],
   "source": [
    "data.to_csv(\"movies.csv\",index=False)"
   ]
  },
  {
   "cell_type": "code",
   "execution_count": null,
   "metadata": {},
   "outputs": [],
   "source": []
  }
 ],
 "metadata": {
  "kernelspec": {
   "display_name": "Python 3",
   "language": "python",
   "name": "python3"
  },
  "language_info": {
   "codemirror_mode": {
    "name": "ipython",
    "version": 3
   },
   "file_extension": ".py",
   "mimetype": "text/x-python",
   "name": "python",
   "nbconvert_exporter": "python",
   "pygments_lexer": "ipython3",
   "version": "3.8.5"
  }
 },
 "nbformat": 4,
 "nbformat_minor": 4
}
